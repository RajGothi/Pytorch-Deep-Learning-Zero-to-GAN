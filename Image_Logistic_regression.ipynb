{
 "cells": [
  {
   "cell_type": "code",
   "execution_count": 1,
   "metadata": {},
   "outputs": [],
   "source": [
    "import torch\n",
    "import torchvision\n",
    "from torchvision.datasets import MNIST"
   ]
  },
  {
   "cell_type": "code",
   "execution_count": 2,
   "metadata": {},
   "outputs": [
    {
     "name": "stdout",
     "output_type": "stream",
     "text": [
      "Downloading http://yann.lecun.com/exdb/mnist/train-images-idx3-ubyte.gz\n",
      "Downloading http://yann.lecun.com/exdb/mnist/train-images-idx3-ubyte.gz to data/MNIST\\raw\\train-images-idx3-ubyte.gz\n"
     ]
    },
    {
     "name": "stderr",
     "output_type": "stream",
     "text": [
      "100%|██████████| 9912422/9912422 [00:01<00:00, 9042831.56it/s] \n"
     ]
    },
    {
     "name": "stdout",
     "output_type": "stream",
     "text": [
      "Extracting data/MNIST\\raw\\train-images-idx3-ubyte.gz to data/MNIST\\raw\n",
      "\n",
      "Downloading http://yann.lecun.com/exdb/mnist/train-labels-idx1-ubyte.gz\n",
      "Downloading http://yann.lecun.com/exdb/mnist/train-labels-idx1-ubyte.gz to data/MNIST\\raw\\train-labels-idx1-ubyte.gz\n"
     ]
    },
    {
     "name": "stderr",
     "output_type": "stream",
     "text": [
      "100%|██████████| 28881/28881 [00:00<00:00, 1196531.91it/s]"
     ]
    },
    {
     "name": "stdout",
     "output_type": "stream",
     "text": [
      "Extracting data/MNIST\\raw\\train-labels-idx1-ubyte.gz to data/MNIST\\raw\n",
      "\n",
      "Downloading http://yann.lecun.com/exdb/mnist/t10k-images-idx3-ubyte.gz\n"
     ]
    },
    {
     "name": "stderr",
     "output_type": "stream",
     "text": [
      "\n"
     ]
    },
    {
     "name": "stdout",
     "output_type": "stream",
     "text": [
      "Downloading http://yann.lecun.com/exdb/mnist/t10k-images-idx3-ubyte.gz to data/MNIST\\raw\\t10k-images-idx3-ubyte.gz\n"
     ]
    },
    {
     "name": "stderr",
     "output_type": "stream",
     "text": [
      "100%|██████████| 1648877/1648877 [00:00<00:00, 26994954.55it/s]\n"
     ]
    },
    {
     "name": "stdout",
     "output_type": "stream",
     "text": [
      "Extracting data/MNIST\\raw\\t10k-images-idx3-ubyte.gz to data/MNIST\\raw\n",
      "\n",
      "Downloading http://yann.lecun.com/exdb/mnist/t10k-labels-idx1-ubyte.gz\n",
      "Downloading http://yann.lecun.com/exdb/mnist/t10k-labels-idx1-ubyte.gz to data/MNIST\\raw\\t10k-labels-idx1-ubyte.gz\n"
     ]
    },
    {
     "name": "stderr",
     "output_type": "stream",
     "text": [
      "100%|██████████| 4542/4542 [00:00<00:00, 2216982.28it/s]"
     ]
    },
    {
     "name": "stdout",
     "output_type": "stream",
     "text": [
      "Extracting data/MNIST\\raw\\t10k-labels-idx1-ubyte.gz to data/MNIST\\raw\n",
      "\n"
     ]
    },
    {
     "name": "stderr",
     "output_type": "stream",
     "text": [
      "\n"
     ]
    }
   ],
   "source": [
    "datasets = MNIST(root='data/',download=True)"
   ]
  },
  {
   "cell_type": "code",
   "execution_count": 3,
   "metadata": {},
   "outputs": [
    {
     "data": {
      "text/plain": [
       "60000"
      ]
     },
     "execution_count": 3,
     "metadata": {},
     "output_type": "execute_result"
    }
   ],
   "source": [
    "len(datasets)"
   ]
  },
  {
   "cell_type": "code",
   "execution_count": 4,
   "metadata": {},
   "outputs": [
    {
     "data": {
      "text/plain": [
       "10000"
      ]
     },
     "execution_count": 4,
     "metadata": {},
     "output_type": "execute_result"
    }
   ],
   "source": [
    "test_dataset = MNIST(root='data/',train=False)\n",
    "len(test_dataset)"
   ]
  },
  {
   "cell_type": "code",
   "execution_count": 5,
   "metadata": {},
   "outputs": [
    {
     "data": {
      "text/plain": [
       "(<PIL.Image.Image image mode=L size=28x28>, 5)"
      ]
     },
     "execution_count": 5,
     "metadata": {},
     "output_type": "execute_result"
    }
   ],
   "source": [
    "datasets[0]"
   ]
  },
  {
   "cell_type": "code",
   "execution_count": 6,
   "metadata": {},
   "outputs": [],
   "source": [
    "import matplotlib.pyplot as plt\n",
    "%matplotlib inline"
   ]
  },
  {
   "cell_type": "code",
   "execution_count": 26,
   "metadata": {},
   "outputs": [
    {
     "name": "stdout",
     "output_type": "stream",
     "text": [
      "Label:  5\n"
     ]
    },
    {
     "data": {
      "image/png": "[encoded data removed]",
      "text/plain": [
       "<Figure size 640x480 with 1 Axes>"
      ]
     },
     "metadata": {},
     "output_type": "display_data"
    }
   ],
   "source": [
    "image, label = datasets[0]\n",
    "plt.imshow(image,cmap='gray')\n",
    "print('Label: ',label)"
   ]
  },
  {
   "cell_type": "code",
   "execution_count": 16,
   "metadata": {},
   "outputs": [
    {
     "name": "stdout",
     "output_type": "stream",
     "text": [
      "Label:  5\n"
     ]
    },
    {
     "data": {
      "image/png": "[encoded data removed]",
      "text/plain": [
       "<Figure size 640x480 with 1 Axes>"
      ]
     },
     "metadata": {},
     "output_type": "display_data"
    }
   ],
   "source": [
    "image, label = datasets[45360]\n",
    "plt.imshow(image,cmap='gray')\n",
    "print('Label: ',label)"
   ]
  },
  {
   "cell_type": "code",
   "execution_count": 17,
   "metadata": {},
   "outputs": [],
   "source": [
    "import torchvision.transforms as transforms"
   ]
  },
  {
   "cell_type": "code",
   "execution_count": 18,
   "metadata": {},
   "outputs": [],
   "source": [
    "dataset = MNIST(root='data/',train=True,transform=transforms.ToTensor()) "
   ]
  },
  {
   "cell_type": "code",
   "execution_count": 22,
   "metadata": {},
   "outputs": [
    {
     "name": "stdout",
     "output_type": "stream",
     "text": [
      "torch.Size([1, 28, 28]) 5\n"
     ]
    }
   ],
   "source": [
    "img_tensor, label = dataset[0]\n",
    "print(img_tensor.shape,label)"
   ]
  },
  {
   "cell_type": "code",
   "execution_count": 23,
   "metadata": {},
   "outputs": [
    {
     "name": "stdout",
     "output_type": "stream",
     "text": [
      "tensor([[[0.0039, 0.6039, 0.9922, 0.3529, 0.0000],\n",
      "         [0.0000, 0.5451, 0.9922, 0.7451, 0.0078],\n",
      "         [0.0000, 0.0431, 0.7451, 0.9922, 0.2745],\n",
      "         [0.0000, 0.0000, 0.1373, 0.9451, 0.8824],\n",
      "         [0.0000, 0.0000, 0.0000, 0.3176, 0.9412]]])\n",
      "tensor(1.) tensor(0.)\n"
     ]
    }
   ],
   "source": [
    "print(img_tensor[:,10:15,10:15])\n",
    "print(torch.max(img_tensor),torch.min(img_tensor))"
   ]
  },
  {
   "cell_type": "code",
   "execution_count": 38,
   "metadata": {},
   "outputs": [
    {
     "data": {
      "text/plain": [
       "(50000, 10000)"
      ]
     },
     "execution_count": 38,
     "metadata": {},
     "output_type": "execute_result"
    }
   ],
   "source": [
    "from torch.utils.data import random_split\n",
    "\n",
    "train_ds, val_ds = random_split(dataset, [50000,10000])\n",
    "len(train_ds), len(val_ds)"
   ]
  },
  {
   "cell_type": "code",
   "execution_count": 39,
   "metadata": {},
   "outputs": [],
   "source": [
    "from torch.utils.data import DataLoader\n",
    "batch_size=128\n",
    "train_loader = DataLoader(train_ds,batch_size,shuffle=True)\n",
    "val_loader = DataLoader(val_ds,batch_size) "
   ]
  },
  {
   "cell_type": "code",
   "execution_count": 40,
   "metadata": {},
   "outputs": [],
   "source": [
    "import torch.nn as nn"
   ]
  },
  {
   "cell_type": "code",
   "execution_count": 41,
   "metadata": {},
   "outputs": [],
   "source": [
    "input_size = 28*28\n",
    "num_classes = 10\n",
    "\n",
    "#Logistic regression model\n",
    "model = nn.Linear(input_size, num_classes)"
   ]
  },
  {
   "cell_type": "code",
   "execution_count": 42,
   "metadata": {},
   "outputs": [
    {
     "name": "stdout",
     "output_type": "stream",
     "text": [
      "<bound method Module.parameters of Linear(in_features=784, out_features=10, bias=True)>\n",
      "torch.Size([10, 784])\n",
      "torch.Size([10])\n",
      "Parameter containing:\n",
      "tensor([[ 0.0060,  0.0136, -0.0043,  ...,  0.0036,  0.0101,  0.0354],\n",
      "        [ 0.0088,  0.0121, -0.0096,  ..., -0.0290, -0.0237,  0.0120],\n",
      "        [ 0.0271,  0.0044,  0.0008,  ..., -0.0286, -0.0319, -0.0113],\n",
      "        ...,\n",
      "        [-0.0304, -0.0037,  0.0046,  ...,  0.0149,  0.0170,  0.0046],\n",
      "        [ 0.0049, -0.0260, -0.0252,  ...,  0.0057,  0.0268, -0.0302],\n",
      "        [-0.0100,  0.0028, -0.0249,  ..., -0.0161, -0.0022, -0.0142]],\n",
      "       requires_grad=True) Parameter containing:\n",
      "tensor([ 0.0023,  0.0160,  0.0305,  0.0190, -0.0350,  0.0190,  0.0021,  0.0347,\n",
      "         0.0115, -0.0094], requires_grad=True)\n"
     ]
    }
   ],
   "source": [
    "print(model.parameters)\n",
    "print(model.weight.shape)\n",
    "print(model.bias.shape)\n",
    "print(model.weight,model.bias)"
   ]
  },
  {
   "cell_type": "code",
   "execution_count": 45,
   "metadata": {},
   "outputs": [
    {
     "name": "stdout",
     "output_type": "stream",
     "text": [
      "tensor([2, 8, 0, 9, 5, 0, 2, 9, 4, 5, 4, 9, 6, 2, 7, 9, 0, 0, 1, 4, 1, 1, 8, 3,\n",
      "        0, 1, 7, 1, 1, 6, 5, 5, 6, 2, 7, 9, 7, 0, 2, 1, 0, 2, 8, 3, 5, 3, 1, 8,\n",
      "        9, 0, 0, 5, 7, 2, 5, 2, 5, 7, 4, 0, 2, 1, 3, 7, 4, 9, 3, 7, 8, 8, 5, 4,\n",
      "        5, 0, 0, 4, 7, 8, 4, 5, 1, 3, 0, 1, 9, 4, 3, 0, 4, 3, 1, 3, 1, 8, 7, 0,\n",
      "        4, 3, 9, 2, 4, 9, 1, 9, 5, 7, 2, 8, 6, 5, 1, 9, 7, 8, 8, 2, 6, 2, 9, 1,\n",
      "        4, 4, 0, 7, 7, 0, 6, 2])\n",
      "torch.Size([128, 1, 28, 28])\n"
     ]
    },
    {
     "ename": "RuntimeError",
     "evalue": "mat1 and mat2 shapes cannot be multiplied (3584x28 and 784x10)",
     "output_type": "error",
     "traceback": [
      "\u001b[1;31m---------------------------------------------------------------------------\u001b[0m",
      "\u001b[1;31mRuntimeError\u001b[0m                              Traceback (most recent call last)",
      "\u001b[1;32m~\\AppData\\Local\\Temp\\ipykernel_13980\\1266950677.py\u001b[0m in \u001b[0;36m<module>\u001b[1;34m\u001b[0m\n\u001b[0;32m      4\u001b[0m     \u001b[0mprint\u001b[0m\u001b[1;33m(\u001b[0m\u001b[0mimages\u001b[0m\u001b[1;33m.\u001b[0m\u001b[0mshape\u001b[0m\u001b[1;33m)\u001b[0m \u001b[1;31m# (128,1,28,28)\u001b[0m\u001b[1;33m\u001b[0m\u001b[1;33m\u001b[0m\u001b[0m\n\u001b[0;32m      5\u001b[0m     \u001b[0mimages\u001b[0m\u001b[1;33m.\u001b[0m\u001b[0mreshape\u001b[0m\u001b[1;33m(\u001b[0m\u001b[1;36m128\u001b[0m\u001b[1;33m,\u001b[0m\u001b[1;36m784\u001b[0m\u001b[1;33m)\u001b[0m\u001b[1;33m\u001b[0m\u001b[1;33m\u001b[0m\u001b[0m\n\u001b[1;32m----> 6\u001b[1;33m     \u001b[0moutputs\u001b[0m \u001b[1;33m=\u001b[0m \u001b[0mmodel\u001b[0m\u001b[1;33m(\u001b[0m\u001b[0mimages\u001b[0m\u001b[1;33m)\u001b[0m\u001b[1;33m\u001b[0m\u001b[1;33m\u001b[0m\u001b[0m\n\u001b[0m\u001b[0;32m      7\u001b[0m     \u001b[1;32mbreak\u001b[0m\u001b[1;33m\u001b[0m\u001b[1;33m\u001b[0m\u001b[0m\n",
      "\u001b[1;32mc:\\Users\\ASUS\\anaconda3\\lib\\site-packages\\torch\\nn\\modules\\module.py\u001b[0m in \u001b[0;36m_call_impl\u001b[1;34m(self, *args, **kwargs)\u001b[0m\n\u001b[0;32m   1499\u001b[0m                 \u001b[1;32mor\u001b[0m \u001b[0m_global_backward_pre_hooks\u001b[0m \u001b[1;32mor\u001b[0m \u001b[0m_global_backward_hooks\u001b[0m\u001b[1;33m\u001b[0m\u001b[1;33m\u001b[0m\u001b[0m\n\u001b[0;32m   1500\u001b[0m                 or _global_forward_hooks or _global_forward_pre_hooks):\n\u001b[1;32m-> 1501\u001b[1;33m             \u001b[1;32mreturn\u001b[0m \u001b[0mforward_call\u001b[0m\u001b[1;33m(\u001b[0m\u001b[1;33m*\u001b[0m\u001b[0margs\u001b[0m\u001b[1;33m,\u001b[0m \u001b[1;33m**\u001b[0m\u001b[0mkwargs\u001b[0m\u001b[1;33m)\u001b[0m\u001b[1;33m\u001b[0m\u001b[1;33m\u001b[0m\u001b[0m\n\u001b[0m\u001b[0;32m   1502\u001b[0m         \u001b[1;31m# Do not call functions when jit is used\u001b[0m\u001b[1;33m\u001b[0m\u001b[1;33m\u001b[0m\u001b[0m\n\u001b[0;32m   1503\u001b[0m         \u001b[0mfull_backward_hooks\u001b[0m\u001b[1;33m,\u001b[0m \u001b[0mnon_full_backward_hooks\u001b[0m \u001b[1;33m=\u001b[0m \u001b[1;33m[\u001b[0m\u001b[1;33m]\u001b[0m\u001b[1;33m,\u001b[0m \u001b[1;33m[\u001b[0m\u001b[1;33m]\u001b[0m\u001b[1;33m\u001b[0m\u001b[1;33m\u001b[0m\u001b[0m\n",
      "\u001b[1;32mc:\\Users\\ASUS\\anaconda3\\lib\\site-packages\\torch\\nn\\modules\\linear.py\u001b[0m in \u001b[0;36mforward\u001b[1;34m(self, input)\u001b[0m\n\u001b[0;32m    112\u001b[0m \u001b[1;33m\u001b[0m\u001b[0m\n\u001b[0;32m    113\u001b[0m     \u001b[1;32mdef\u001b[0m \u001b[0mforward\u001b[0m\u001b[1;33m(\u001b[0m\u001b[0mself\u001b[0m\u001b[1;33m,\u001b[0m \u001b[0minput\u001b[0m\u001b[1;33m:\u001b[0m \u001b[0mTensor\u001b[0m\u001b[1;33m)\u001b[0m \u001b[1;33m->\u001b[0m \u001b[0mTensor\u001b[0m\u001b[1;33m:\u001b[0m\u001b[1;33m\u001b[0m\u001b[1;33m\u001b[0m\u001b[0m\n\u001b[1;32m--> 114\u001b[1;33m         \u001b[1;32mreturn\u001b[0m \u001b[0mF\u001b[0m\u001b[1;33m.\u001b[0m\u001b[0mlinear\u001b[0m\u001b[1;33m(\u001b[0m\u001b[0minput\u001b[0m\u001b[1;33m,\u001b[0m \u001b[0mself\u001b[0m\u001b[1;33m.\u001b[0m\u001b[0mweight\u001b[0m\u001b[1;33m,\u001b[0m \u001b[0mself\u001b[0m\u001b[1;33m.\u001b[0m\u001b[0mbias\u001b[0m\u001b[1;33m)\u001b[0m\u001b[1;33m\u001b[0m\u001b[1;33m\u001b[0m\u001b[0m\n\u001b[0m\u001b[0;32m    115\u001b[0m \u001b[1;33m\u001b[0m\u001b[0m\n\u001b[0;32m    116\u001b[0m     \u001b[1;32mdef\u001b[0m \u001b[0mextra_repr\u001b[0m\u001b[1;33m(\u001b[0m\u001b[0mself\u001b[0m\u001b[1;33m)\u001b[0m \u001b[1;33m->\u001b[0m \u001b[0mstr\u001b[0m\u001b[1;33m:\u001b[0m\u001b[1;33m\u001b[0m\u001b[1;33m\u001b[0m\u001b[0m\n",
      "\u001b[1;31mRuntimeError\u001b[0m: mat1 and mat2 shapes cannot be multiplied (3584x28 and 784x10)"
     ]
    }
   ],
   "source": [
    "#actually train_loader is interator.\n",
    "for images, labels in train_loader:\n",
    "    print(labels)\n",
    "    print(images.shape) # (128,1,28,28)\n",
    "    # images.reshape(128,784)\n",
    "    print()\n",
    "    outputs = model(images)\n",
    "    break    "
   ]
  },
  {
   "cell_type": "code",
   "execution_count": 65,
   "metadata": {},
   "outputs": [],
   "source": [
    "import torch.nn.functional as F\n",
    "class MnistModel(nn.Module):\n",
    "    def __init__(self):\n",
    "        super().__init__()\n",
    "        self.linear = nn.Linear(input_size,num_classes)\n",
    "    \n",
    "    def forward(self,xb):\n",
    "        xb = xb.reshape(-1,784)\n",
    "        out = self.linear(xb)\n",
    "        #softmax along second dimension(column)\n",
    "        out = F.softmax(out,dim=1)\n",
    "        return out\n",
    "    \n",
    "model = MnistModel()"
   ]
  },
  {
   "cell_type": "code",
   "execution_count": 66,
   "metadata": {},
   "outputs": [
    {
     "name": "stdout",
     "output_type": "stream",
     "text": [
      "Linear(in_features=784, out_features=10, bias=True)\n",
      "torch.Size([10, 784]) torch.Size([10])\n",
      "[Parameter containing:\n",
      "tensor([[ 0.0319,  0.0277, -0.0188,  ..., -0.0143, -0.0307,  0.0178],\n",
      "        [ 0.0322,  0.0248,  0.0061,  ..., -0.0297,  0.0139,  0.0162],\n",
      "        [-0.0149,  0.0043,  0.0349,  ..., -0.0214, -0.0130,  0.0165],\n",
      "        ...,\n",
      "        [-0.0173, -0.0098,  0.0046,  ..., -0.0189,  0.0255, -0.0317],\n",
      "        [ 0.0106,  0.0338, -0.0302,  ..., -0.0214, -0.0089, -0.0104],\n",
      "        [ 0.0254,  0.0104, -0.0085,  ..., -0.0259, -0.0023, -0.0096]],\n",
      "       requires_grad=True), Parameter containing:\n",
      "tensor([-0.0062, -0.0091,  0.0235,  0.0199, -0.0136, -0.0028, -0.0177, -0.0233,\n",
      "        -0.0233,  0.0162], requires_grad=True)]\n"
     ]
    }
   ],
   "source": [
    "print(model.linear)\n",
    "print(model.linear.weight.shape,model.linear.bias.shape)\n",
    "print(list(model.parameters()))"
   ]
  },
  {
   "cell_type": "code",
   "execution_count": 70,
   "metadata": {},
   "outputs": [
    {
     "name": "stdout",
     "output_type": "stream",
     "text": [
      "outputs shape:  torch.Size([128, 10])\n",
      "Sample outptus: \n",
      " tensor([[0.1014, 0.0789, 0.0849, 0.1356, 0.0549, 0.0931, 0.0933, 0.1355, 0.1113,\n",
      "         0.1111],\n",
      "        [0.1367, 0.0595, 0.1086, 0.1309, 0.0757, 0.0705, 0.0945, 0.1142, 0.1278,\n",
      "         0.0816]])\n",
      "tensor([3, 0, 7, 1, 6, 7, 3, 7, 3, 8, 3, 3, 0, 3, 0, 8, 8, 8, 7, 7, 5, 7, 8, 3,\n",
      "        8, 3, 7, 3, 7, 0, 7, 7, 5, 8, 3, 7, 3, 3, 0, 8, 3, 7, 5, 7, 7, 7, 3, 3,\n",
      "        7, 7, 8, 0, 7, 7, 7, 2, 7, 3, 3, 3, 3, 3, 3, 8, 8, 7, 3, 7, 7, 7, 7, 7,\n",
      "        3, 7, 8, 7, 7, 2, 3, 8, 0, 7, 7, 8, 7, 7, 8, 5, 3, 0, 7, 7, 7, 3, 8, 9,\n",
      "        8, 8, 3, 3, 3, 7, 3, 7, 3, 7, 3, 1, 3, 3, 2, 7, 8, 7, 3, 7, 3, 8, 0, 3,\n",
      "        3, 2, 7, 7, 7, 7, 7, 3])\n",
      "tensor([0.1356, 0.1367, 0.1607, 0.1292, 0.1270, 0.1460, 0.1336, 0.1345, 0.1618,\n",
      "        0.1166, 0.1304, 0.1416, 0.1433, 0.1596, 0.1379, 0.1381, 0.1426, 0.1588,\n",
      "        0.1387, 0.1264, 0.1213, 0.1397, 0.1581, 0.1632, 0.1403, 0.1400, 0.1408,\n",
      "        0.1553, 0.1430, 0.1305, 0.1230, 0.1406, 0.1339, 0.1401, 0.1560, 0.1536,\n",
      "        0.1450, 0.1297, 0.1452, 0.1540, 0.1290, 0.1565, 0.1250, 0.1236, 0.1372,\n",
      "        0.1248, 0.1396, 0.1392, 0.1422, 0.1663, 0.1473, 0.1647, 0.1481, 0.1264,\n",
      "        0.1365, 0.1281, 0.1238, 0.1495, 0.1516, 0.1541, 0.1293, 0.1308, 0.1282,\n",
      "        0.1312, 0.1169, 0.1177, 0.1506, 0.1690, 0.1213, 0.1526, 0.1653, 0.1206,\n",
      "        0.1322, 0.1559, 0.1261, 0.1676, 0.1286, 0.1191, 0.1369, 0.1632, 0.1290,\n",
      "        0.1211, 0.1425, 0.1120, 0.1414, 0.1377, 0.1393, 0.1243, 0.1512, 0.1398,\n",
      "        0.1646, 0.1620, 0.1240, 0.1399, 0.1316, 0.1439, 0.1455, 0.1269, 0.1365,\n",
      "        0.1373, 0.1285, 0.1260, 0.1285, 0.1682, 0.1452, 0.1447, 0.1520, 0.1152,\n",
      "        0.1295, 0.1439, 0.1301, 0.1657, 0.1325, 0.1483, 0.1410, 0.1137, 0.1291,\n",
      "        0.1311, 0.1692, 0.1384, 0.1372, 0.1265, 0.1473, 0.1205, 0.1229, 0.1284,\n",
      "        0.1435, 0.1473], grad_fn=<MaxBackward0>)\n"
     ]
    }
   ],
   "source": [
    "for images,labels in train_loader:\n",
    "    outputs = model(images)\n",
    "    break\n",
    "\n",
    "print('outputs shape: ',outputs.shape)\n",
    "print('Sample outptus: \\n',outputs[:2].data)\n",
    "\n",
    "#Max along the 1st dimension columns (Row vector)\n",
    "max_probs, preds = torch.max(outputs,dim=1)\n",
    "print(preds)\n",
    "print(max_probs)"
   ]
  },
  {
   "cell_type": "code",
   "execution_count": 71,
   "metadata": {},
   "outputs": [],
   "source": [
    "def accuracy(outputs,labels):\n",
    "    _, preds = torch.max(outputs,dim=1)\n",
    "    return torch.tensor(torch.sum(preds==labels).item()/ len(preds))"
   ]
  },
  {
   "cell_type": "code",
   "execution_count": 72,
   "metadata": {},
   "outputs": [
    {
     "data": {
      "text/plain": [
       "tensor(0.0859)"
      ]
     },
     "execution_count": 72,
     "metadata": {},
     "output_type": "execute_result"
    }
   ],
   "source": [
    "accuracy(outputs,labels)"
   ]
  },
  {
   "cell_type": "code",
   "execution_count": 74,
   "metadata": {},
   "outputs": [
    {
     "name": "stdout",
     "output_type": "stream",
     "text": [
      "tensor(2.3016, grad_fn=<NllLossBackward0>)\n"
     ]
    }
   ],
   "source": [
    "#cross-entropy loss\n",
    "loss_fn = F.cross_entropy\n",
    "loss = loss_fn(outputs,labels)\n",
    "print(loss)"
   ]
  },
  {
   "cell_type": "code",
   "execution_count": 101,
   "metadata": {},
   "outputs": [],
   "source": [
    "def fit(epochs,lr,model,train_loader,val_loader,opt_func=torch.optim.SGD):\n",
    "    optimizer= opt_func(model.parameters(),lr)\n",
    "    history = []\n",
    "\n",
    "    for epoch in range(epochs):\n",
    "        for batch in train_loader:\n",
    "            loss = model.training_step(batch)\n",
    "            loss.backward()\n",
    "            optimizer.step()\n",
    "            optimizer.zero_grad()\n",
    "\n",
    "        result = evaluate(model,val_loader)\n",
    "        model.epoch_end(epoch,result)\n",
    "        history.append(result)\n",
    "    \n",
    "    return history"
   ]
  },
  {
   "cell_type": "code",
   "execution_count": 102,
   "metadata": {},
   "outputs": [],
   "source": [
    "def evaluate(model,val_loader):\n",
    "    outputs = [model.validation_step(batch) for batch in val_loader]\n",
    "    return model.validation_epoch_end(outputs)"
   ]
  },
  {
   "cell_type": "code",
   "execution_count": 108,
   "metadata": {},
   "outputs": [],
   "source": [
    "#Final our model class code\n",
    "import torch.nn.functional as F\n",
    "class MnistModel(nn.Module):\n",
    "    def __init__(self):\n",
    "        super().__init__()\n",
    "        self.linear = nn.Linear(input_size,num_classes)\n",
    "    \n",
    "    def forward(self,xb):\n",
    "        xb = xb.reshape(-1,784)\n",
    "        out = self.linear(xb)\n",
    "        #softmax along second dimension(column)\n",
    "        # out = F.softmax(out,dim=1)\n",
    "        return out\n",
    "    \n",
    "    def training_step(self,batch):\n",
    "        images, labels = batch\n",
    "        out = self(images)\n",
    "        loss = F.cross_entropy(out,labels)\n",
    "        return loss\n",
    "    \n",
    "    def validation_step(self,batch):\n",
    "        images, labels = batch\n",
    "        out = self(images)\n",
    "        loss = F.cross_entropy(out,labels)\n",
    "        acc = accuracy(out,labels)\n",
    "        return {'val_loss':loss, 'val_acc':acc}\n",
    "    \n",
    "    def validation_epoch_end(self,outputs):\n",
    "        batch_losses = [x['val_loss'] for x in outputs]\n",
    "        epoch_loss = torch.stack(batch_losses).mean()\n",
    "        batch_accs = [x['val_acc'] for x in outputs]\n",
    "        epoch_acc = torch.stack(batch_accs).mean()\n",
    "        return {'val_loss': epoch_loss.item(), 'val_acc':epoch_acc.item()}\n",
    "    \n",
    "    def epoch_end(self,epoch,result):\n",
    "        print(\"Epoch [{}], val_loss: {:.4f}, val_acc {:.4f}\".format(epoch,result['val_loss'],result['val_acc']))\n",
    "\n",
    "model = MnistModel()"
   ]
  },
  {
   "cell_type": "code",
   "execution_count": 104,
   "metadata": {},
   "outputs": [
    {
     "data": {
      "text/plain": [
       "{'val_loss': 2.3333866596221924, 'val_acc': 0.07634493708610535}"
      ]
     },
     "execution_count": 104,
     "metadata": {},
     "output_type": "execute_result"
    }
   ],
   "source": [
    "result0 = evaluate(model,val_loader)\n",
    "result0"
   ]
  },
  {
   "cell_type": "code",
   "execution_count": 109,
   "metadata": {},
   "outputs": [
    {
     "name": "stdout",
     "output_type": "stream",
     "text": [
      "Epoch [0], val_loss: 1.9526, val_acc 0.6233\n",
      "Epoch [1], val_loss: 1.6861, val_acc 0.7276\n",
      "Epoch [2], val_loss: 1.4861, val_acc 0.7596\n",
      "Epoch [3], val_loss: 1.3347, val_acc 0.7766\n",
      "Epoch [4], val_loss: 1.2181, val_acc 0.7928\n"
     ]
    }
   ],
   "source": [
    "history1 = fit(5, 0.001, model, train_loader, val_loader)"
   ]
  },
  {
   "cell_type": "code",
   "execution_count": 110,
   "metadata": {},
   "outputs": [
    {
     "name": "stdout",
     "output_type": "stream",
     "text": [
      "Epoch [0], val_loss: 1.1266, val_acc 0.8022\n",
      "Epoch [1], val_loss: 1.0533, val_acc 0.8080\n",
      "Epoch [2], val_loss: 0.9933, val_acc 0.8145\n",
      "Epoch [3], val_loss: 0.9434, val_acc 0.8208\n",
      "Epoch [4], val_loss: 0.9012, val_acc 0.8255\n"
     ]
    }
   ],
   "source": [
    "history2 = fit(5, 0.001, model, train_loader, val_loader)"
   ]
  },
  {
   "cell_type": "code",
   "execution_count": 111,
   "metadata": {},
   "outputs": [
    {
     "name": "stdout",
     "output_type": "stream",
     "text": [
      "Epoch [0], val_loss: 0.8651, val_acc 0.8292\n",
      "Epoch [1], val_loss: 0.8339, val_acc 0.8321\n",
      "Epoch [2], val_loss: 0.8065, val_acc 0.8358\n",
      "Epoch [3], val_loss: 0.7823, val_acc 0.8381\n",
      "Epoch [4], val_loss: 0.7608, val_acc 0.8399\n"
     ]
    }
   ],
   "source": [
    "history3 = fit(5, 0.001, model, train_loader, val_loader)"
   ]
  },
  {
   "cell_type": "code",
   "execution_count": 112,
   "metadata": {},
   "outputs": [
    {
     "name": "stdout",
     "output_type": "stream",
     "text": [
      "Epoch [0], val_loss: 0.7416, val_acc 0.8425\n",
      "Epoch [1], val_loss: 0.7242, val_acc 0.8449\n",
      "Epoch [2], val_loss: 0.7084, val_acc 0.8472\n",
      "Epoch [3], val_loss: 0.6940, val_acc 0.8489\n",
      "Epoch [4], val_loss: 0.6808, val_acc 0.8506\n"
     ]
    }
   ],
   "source": [
    "history4 = fit(5, 0.001, model, train_loader, val_loader)"
   ]
  },
  {
   "cell_type": "code",
   "execution_count": 113,
   "metadata": {},
   "outputs": [
    {
     "data": {
      "image/png": "[encoded data removed]",
      "text/plain": [
       "<Figure size 640x480 with 1 Axes>"
      ]
     },
     "metadata": {},
     "output_type": "display_data"
    }
   ],
   "source": [
    "history = [result0] + history1 + history2 + history3 + history4\n",
    "accuracies = [result['val_acc'] for result in history]\n",
    "plt.plot(accuracies, '-x')\n",
    "plt.xlabel('epoch')\n",
    "plt.ylabel('accuracy')\n",
    "plt.title('Accuracy vs. No. of epochs');"
   ]
  },
  {
   "attachments": {},
   "cell_type": "markdown",
   "metadata": {},
   "source": [
    "Check on Test dataset "
   ]
  },
  {
   "cell_type": "code",
   "execution_count": 114,
   "metadata": {},
   "outputs": [],
   "source": [
    "test_dataset = MNIST(root='data/',train=False,transform=transforms.ToTensor())\n"
   ]
  },
  {
   "cell_type": "code",
   "execution_count": 115,
   "metadata": {},
   "outputs": [
    {
     "name": "stdout",
     "output_type": "stream",
     "text": [
      "Shape: torch.Size([1, 28, 28])\n",
      "Label: 7\n"
     ]
    },
    {
     "data": {
      "image/png": "[encoded data removed]",
      "text/plain": [
       "<Figure size 640x480 with 1 Axes>"
      ]
     },
     "metadata": {},
     "output_type": "display_data"
    }
   ],
   "source": [
    "img, label = test_dataset[0]\n",
    "plt.imshow(img[0], cmap='gray')\n",
    "print('Shape:', img.shape)\n",
    "print('Label:', label)"
   ]
  },
  {
   "cell_type": "code",
   "execution_count": 117,
   "metadata": {},
   "outputs": [],
   "source": [
    "def predict_image(img, model):\n",
    "    xb = img.unsqueeze(0)\n",
    "    yb = model(xb)\n",
    "    _, preds = torch.max(yb, dim=1)\n",
    "    return preds[0].item()\n",
    "#img.unsqueeze simply adds another dimension at the begining of the 1x28x28 tensor, \n",
    "#making it a 1x1x28x28 tensor, which the model views as a batch containing a single image."
   ]
  },
  {
   "cell_type": "code",
   "execution_count": 118,
   "metadata": {},
   "outputs": [
    {
     "name": "stdout",
     "output_type": "stream",
     "text": [
      "Label: 7 , Predicted: 7\n"
     ]
    },
    {
     "data": {
      "image/png": "[encoded data removed]",
      "text/plain": [
       "<Figure size 640x480 with 1 Axes>"
      ]
     },
     "metadata": {},
     "output_type": "display_data"
    }
   ],
   "source": [
    "img, label = test_dataset[0]\n",
    "plt.imshow(img[0], cmap='gray')\n",
    "print('Label:', label, ', Predicted:', predict_image(img, model))"
   ]
  },
  {
   "cell_type": "code",
   "execution_count": 119,
   "metadata": {},
   "outputs": [
    {
     "name": "stdout",
     "output_type": "stream",
     "text": [
      "Label: 9 , Predicted: 3\n"
     ]
    },
    {
     "data": {
      "image/png": "[encoded data removed]",
      "text/plain": [
       "<Figure size 640x480 with 1 Axes>"
      ]
     },
     "metadata": {},
     "output_type": "display_data"
    }
   ],
   "source": [
    "img, label = test_dataset[193]\n",
    "plt.imshow(img[0], cmap='gray')\n",
    "print('Label:', label, ', Predicted:', predict_image(img, model))"
   ]
  },
  {
   "cell_type": "code",
   "execution_count": 120,
   "metadata": {},
   "outputs": [
    {
     "name": "stdout",
     "output_type": "stream",
     "text": [
      "Label: 2 , Predicted: 8\n"
     ]
    },
    {
     "data": {
      "image/png": "[encoded data removed]",
      "text/plain": [
       "<Figure size 640x480 with 1 Axes>"
      ]
     },
     "metadata": {},
     "output_type": "display_data"
    }
   ],
   "source": [
    "img, label = test_dataset[1839]\n",
    "plt.imshow(img[0], cmap='gray')\n",
    "print('Label:', label, ', Predicted:', predict_image(img, model))"
   ]
  },
  {
   "cell_type": "code",
   "execution_count": 121,
   "metadata": {},
   "outputs": [
    {
     "data": {
      "text/plain": [
       "{'val_loss': 0.640834629535675, 'val_acc': 0.860644519329071}"
      ]
     },
     "execution_count": 121,
     "metadata": {},
     "output_type": "execute_result"
    }
   ],
   "source": [
    "test_loader = DataLoader(test_dataset, batch_size=256)\n",
    "result = evaluate(model, test_loader)\n",
    "result"
   ]
  },
  {
   "cell_type": "code",
   "execution_count": 123,
   "metadata": {},
   "outputs": [],
   "source": [
    "#The .state_dict method returns an OrderedDict containing all the weights and bias matrices mapped to the right attributes of the model.\n",
    "torch.save(model.state_dict(),'mnist-logistic.pth')"
   ]
  },
  {
   "cell_type": "code",
   "execution_count": 124,
   "metadata": {},
   "outputs": [
    {
     "data": {
      "text/plain": [
       "OrderedDict([('linear.weight',\n",
       "              tensor([[ 0.0144, -0.0247, -0.0183,  ...,  0.0340,  0.0063, -0.0267],\n",
       "                      [-0.0125, -0.0086, -0.0213,  ...,  0.0294,  0.0257,  0.0243],\n",
       "                      [ 0.0188,  0.0257, -0.0202,  ...,  0.0262,  0.0057, -0.0072],\n",
       "                      ...,\n",
       "                      [ 0.0255,  0.0310, -0.0328,  ...,  0.0097,  0.0248,  0.0145],\n",
       "                      [-0.0217, -0.0027,  0.0295,  ...,  0.0108,  0.0261,  0.0276],\n",
       "                      [ 0.0180,  0.0047,  0.0181,  ...,  0.0236, -0.0168, -0.0085]])),\n",
       "             ('linear.bias',\n",
       "              tensor([-0.0340,  0.1120, -0.0094, -0.0540,  0.0168,  0.0343, -0.0126,  0.0584,\n",
       "                      -0.1041, -0.0315]))])"
      ]
     },
     "execution_count": 124,
     "metadata": {},
     "output_type": "execute_result"
    }
   ],
   "source": [
    "model.state_dict()"
   ]
  },
  {
   "cell_type": "code",
   "execution_count": 126,
   "metadata": {},
   "outputs": [
    {
     "data": {
      "text/plain": [
       "OrderedDict([('linear.weight',\n",
       "              tensor([[-0.0199,  0.0045,  0.0119,  ..., -0.0305,  0.0276, -0.0180],\n",
       "                      [ 0.0355,  0.0012,  0.0031,  ..., -0.0343, -0.0209, -0.0324],\n",
       "                      [-0.0076, -0.0100,  0.0113,  ...,  0.0082, -0.0200, -0.0051],\n",
       "                      ...,\n",
       "                      [-0.0101,  0.0264,  0.0199,  ...,  0.0084,  0.0122,  0.0336],\n",
       "                      [ 0.0280,  0.0251,  0.0122,  ...,  0.0123,  0.0138, -0.0041],\n",
       "                      [ 0.0016, -0.0252, -0.0063,  ...,  0.0193, -0.0027, -0.0270]])),\n",
       "             ('linear.bias',\n",
       "              tensor([-0.0122,  0.0050, -0.0039,  0.0101,  0.0198,  0.0244,  0.0317,  0.0322,\n",
       "                      -0.0028,  0.0175]))])"
      ]
     },
     "execution_count": 126,
     "metadata": {},
     "output_type": "execute_result"
    }
   ],
   "source": [
    "model2 = MnistModel()\n",
    "model2.state_dict()\n",
    "#different weight then model1 now we want to take the weight of model1"
   ]
  },
  {
   "cell_type": "code",
   "execution_count": 128,
   "metadata": {},
   "outputs": [
    {
     "data": {
      "text/plain": [
       "OrderedDict([('linear.weight',\n",
       "              tensor([[ 0.0144, -0.0247, -0.0183,  ...,  0.0340,  0.0063, -0.0267],\n",
       "                      [-0.0125, -0.0086, -0.0213,  ...,  0.0294,  0.0257,  0.0243],\n",
       "                      [ 0.0188,  0.0257, -0.0202,  ...,  0.0262,  0.0057, -0.0072],\n",
       "                      ...,\n",
       "                      [ 0.0255,  0.0310, -0.0328,  ...,  0.0097,  0.0248,  0.0145],\n",
       "                      [-0.0217, -0.0027,  0.0295,  ...,  0.0108,  0.0261,  0.0276],\n",
       "                      [ 0.0180,  0.0047,  0.0181,  ...,  0.0236, -0.0168, -0.0085]])),\n",
       "             ('linear.bias',\n",
       "              tensor([-0.0340,  0.1120, -0.0094, -0.0540,  0.0168,  0.0343, -0.0126,  0.0584,\n",
       "                      -0.1041, -0.0315]))])"
      ]
     },
     "execution_count": 128,
     "metadata": {},
     "output_type": "execute_result"
    }
   ],
   "source": [
    "model2.load_state_dict(torch.load('mnist-logistic.pth'))\n",
    "model2.state_dict()\n",
    "#same as earlier"
   ]
  },
  {
   "cell_type": "code",
   "execution_count": 129,
   "metadata": {},
   "outputs": [
    {
     "data": {
      "text/plain": [
       "{'val_loss': 0.640834629535675, 'val_acc': 0.860644519329071}"
      ]
     },
     "execution_count": 129,
     "metadata": {},
     "output_type": "execute_result"
    }
   ],
   "source": [
    "test_loader = DataLoader(test_dataset, batch_size=256)\n",
    "result = evaluate(model, test_loader)\n",
    "result\n",
    "\n",
    "#same accuracy as earlier"
   ]
  },
  {
   "cell_type": "code",
   "execution_count": null,
   "metadata": {},
   "outputs": [],
   "source": []
  }
 ],
 "metadata": {
  "kernelspec": {
   "display_name": "base",
   "language": "python",
   "name": "python3"
  },
  "language_info": {
   "codemirror_mode": {
    "name": "ipython",
    "version": 3
   },
   "file_extension": ".py",
   "mimetype": "text/x-python",
   "name": "python",
   "nbconvert_exporter": "python",
   "pygments_lexer": "ipython3",
   "version": "3.9.13"
  },
  "orig_nbformat": 4
 },
 "nbformat": 4,
 "nbformat_minor": 2
}
